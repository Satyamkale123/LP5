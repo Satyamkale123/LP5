{
 "cells": [
  {
   "cell_type": "code",
   "execution_count": 1,
   "metadata": {
    "id": "yn9xz9OUFGi1"
   },
   "outputs": [],
   "source": [
    "\n",
    "\n",
    "from keras.datasets import imdb"
   ]
  },
  {
   "cell_type": "code",
   "execution_count": 2,
   "metadata": {
    "colab": {
     "base_uri": "https://localhost:8080/"
    },
    "executionInfo": {
     "elapsed": 9853,
     "status": "ok",
     "timestamp": 1685156903430,
     "user": {
      "displayName": "TE_B_52_Siddesh Patankar",
      "userId": "08734077620444832225"
     },
     "user_tz": -330
    },
    "id": "KB1UZItVFXPp",
    "outputId": "99fafa5c-c13c-4ce8-f7d0-56bb87f4c4b3"
   },
   "outputs": [
    {
     "name": "stdout",
     "output_type": "stream",
     "text": [
      "Downloading data from https://storage.googleapis.com/tensorflow/tf-keras-datasets/imdb.npz\n",
      "17464789/17464789 [==============================] - 3s 0us/step\n"
     ]
    }
   ],
   "source": [
    "(train_data,train_labels),(test_data,test_labels)=imdb.load_data(num_words=10000)\n",
    "\n",
    "#x_test = test_data"
   ]
  },
  {
   "cell_type": "code",
   "execution_count": 3,
   "metadata": {
    "colab": {
     "base_uri": "https://localhost:8080/"
    },
    "executionInfo": {
     "elapsed": 4,
     "status": "ok",
     "timestamp": 1685156903432,
     "user": {
      "displayName": "TE_B_52_Siddesh Patankar",
      "userId": "08734077620444832225"
     },
     "user_tz": -330
    },
    "id": "BtShX5qhFuum",
    "outputId": "866e4fc8-1f64-447f-bea2-670763753da2"
   },
   "outputs": [
    {
     "data": {
      "text/plain": [
       "(25000,)"
      ]
     },
     "execution_count": 3,
     "metadata": {},
     "output_type": "execute_result"
    }
   ],
   "source": [
    "train_data.shape"
   ]
  },
  {
   "cell_type": "code",
   "execution_count": 4,
   "metadata": {
    "colab": {
     "base_uri": "https://localhost:8080/"
    },
    "executionInfo": {
     "elapsed": 14,
     "status": "ok",
     "timestamp": 1685076988451,
     "user": {
      "displayName": "TE_B_52_Siddesh Patankar",
      "userId": "08734077620444832225"
     },
     "user_tz": -330
    },
    "id": "RxeJvAXUFykt",
    "outputId": "03af816e-6c47-49f9-e19f-9134bdbfeb7d"
   },
   "outputs": [
    {
     "data": {
      "text/plain": [
       "1"
      ]
     },
     "execution_count": 4,
     "metadata": {},
     "output_type": "execute_result"
    }
   ],
   "source": [
    "train_labels[0]"
   ]
  },
  {
   "cell_type": "code",
   "execution_count": 5,
   "metadata": {
    "colab": {
     "base_uri": "https://localhost:8080/"
    },
    "executionInfo": {
     "elapsed": 528,
     "status": "ok",
     "timestamp": 1685077067971,
     "user": {
      "displayName": "TE_B_52_Siddesh Patankar",
      "userId": "08734077620444832225"
     },
     "user_tz": -330
    },
    "id": "fnEPCzbmF5eY",
    "outputId": "52590e19-734a-4f1c-8de1-04fa52e143c1"
   },
   "outputs": [
    {
     "name": "stdout",
     "output_type": "stream",
     "text": [
      "Downloading data from https://storage.googleapis.com/tensorflow/tf-keras-datasets/imdb_word_index.json\n",
      "1641221/1641221 [==============================] - 0s 0us/step\n"
     ]
    }
   ],
   "source": [
    "word_index=imdb.get_word_index()\n",
    "reverse_word_index=dict([value,key] for (key,value) in word_index.items())\n",
    "decoded_review = ' '.join([reverse_word_index.get(i-3,'?') for i in train_data[0]])"
   ]
  },
  {
   "cell_type": "code",
   "execution_count": 6,
   "metadata": {
    "colab": {
     "base_uri": "https://localhost:8080/",
     "height": 109
    },
    "executionInfo": {
     "elapsed": 10,
     "status": "ok",
     "timestamp": 1684944393870,
     "user": {
      "displayName": "TE_B_52_Siddesh Patankar",
      "userId": "08734077620444832225"
     },
     "user_tz": -330
    },
    "id": "fQ49X5nyGoA7",
    "outputId": "2a62f294-b132-469f-dc67-1aa98de14e94"
   },
   "outputs": [
    {
     "data": {
      "text/plain": [
       "\"? this film was just brilliant casting location scenery story direction everyone's really suited the part they played and you could just imagine being there robert ? is an amazing actor and now the same being director ? father came from the same scottish island as myself so i loved the fact there was a real connection with this film the witty remarks throughout the film were great it was just brilliant so much that i bought the film as soon as it was released for ? and would recommend it to everyone to watch and the fly fishing was amazing really cried at the end it was so sad and you know what they say if you cry at a film it must have been good and this definitely was also ? to the two little boy's that played the ? of norman and paul they were just brilliant children are often left out of the ? list i think because the stars that play them all grown up are such a big profile for the whole film but these children are amazing and should be praised for what they have done don't you think the whole story was so lovely because it was true and was someone's life after all that was shared with us all\""
      ]
     },
     "execution_count": 6,
     "metadata": {},
     "output_type": "execute_result"
    }
   ],
   "source": [
    "decoded_review"
   ]
  },
  {
   "cell_type": "code",
   "execution_count": 7,
   "metadata": {
    "id": "2f25pEG5GuwB"
   },
   "outputs": [],
   "source": [
    "#prepare the data\n",
    "import numpy as np"
   ]
  },
  {
   "cell_type": "code",
   "execution_count": 8,
   "metadata": {
    "id": "piWYU01oHBLc"
   },
   "outputs": [],
   "source": [
    "#perform one_hot vector encoding\n",
    "def vectorize(sequences,dimensions=10000):\n",
    "  results = np.zeros((len(sequences),dimensions))\n",
    "  for i, sequences in enumerate(sequences):\n",
    "    results[i,sequences]=1\n",
    "  return results"
   ]
  },
  {
   "cell_type": "code",
   "execution_count": 9,
   "metadata": {
    "id": "lbP9MM67Hh3_"
   },
   "outputs": [],
   "source": [
    "x_train=vectorize(train_data)"
   ]
  },
  {
   "cell_type": "code",
   "execution_count": 10,
   "metadata": {
    "colab": {
     "base_uri": "https://localhost:8080/"
    },
    "executionInfo": {
     "elapsed": 8,
     "status": "ok",
     "timestamp": 1684944400566,
     "user": {
      "displayName": "TE_B_52_Siddesh Patankar",
      "userId": "08734077620444832225"
     },
     "user_tz": -330
    },
    "id": "W0cHWSJRHy34",
    "outputId": "81183ec8-a344-4253-e62b-46e7a36990e3"
   },
   "outputs": [
    {
     "data": {
      "text/plain": [
       "array([0., 1., 1., ..., 0., 0., 0.])"
      ]
     },
     "execution_count": 10,
     "metadata": {},
     "output_type": "execute_result"
    }
   ],
   "source": [
    "x_train[0]"
   ]
  },
  {
   "cell_type": "code",
   "execution_count": 11,
   "metadata": {
    "id": "2-C7M5cOICGv"
   },
   "outputs": [],
   "source": [
    "y_train = np.asarray(train_labels).astype('float32')\n",
    "y_test = np.asarray(test_labels).astype('float32')"
   ]
  },
  {
   "cell_type": "code",
   "execution_count": 12,
   "metadata": {
    "id": "aDFLDkAxIWhd"
   },
   "outputs": [],
   "source": [
    "#building the network\n",
    "from keras import models\n",
    "from keras import layers"
   ]
  },
  {
   "cell_type": "code",
   "execution_count": 13,
   "metadata": {
    "id": "r8JOkQO9IfzA"
   },
   "outputs": [],
   "source": [
    "model = models.Sequential()"
   ]
  },
  {
   "cell_type": "code",
   "execution_count": 14,
   "metadata": {
    "id": "S0sJGscSInWy"
   },
   "outputs": [],
   "source": [
    "model.add(layers.Dense(16,activation='relu',input_shape=(10000,)))\n",
    "model.add(layers.Dense(16,activation='relu'))\n",
    "model.add(layers.Dense(1,activation = 'sigmoid'))"
   ]
  },
  {
   "cell_type": "code",
   "execution_count": 15,
   "metadata": {
    "id": "GywZ4EqiKyea"
   },
   "outputs": [],
   "source": [
    "#compilation step \n",
    "#from keras import util.custom_object_scope\n",
    "model.compile(optimizer='RMSprop',loss='binary_crossentropy',metrics=['accuracy'])"
   ]
  },
  {
   "cell_type": "code",
   "execution_count": 16,
   "metadata": {
    "id": "jO6e4iEILJLF"
   },
   "outputs": [],
   "source": [
    "#validating the approach\n",
    "x_val = x_train[:10000]\n",
    "partial_x_train = x_train[10000:]"
   ]
  },
  {
   "cell_type": "code",
   "execution_count": 17,
   "metadata": {
    "id": "--7Idbt_La2I"
   },
   "outputs": [],
   "source": [
    "y_val = y_train[:10000]\n",
    "partial_y_train = y_train[10000:]"
   ]
  },
  {
   "cell_type": "code",
   "execution_count": 18,
   "metadata": {
    "colab": {
     "base_uri": "https://localhost:8080/"
    },
    "executionInfo": {
     "elapsed": 43312,
     "status": "ok",
     "timestamp": 1684944459815,
     "user": {
      "displayName": "TE_B_52_Siddesh Patankar",
      "userId": "08734077620444832225"
     },
     "user_tz": -330
    },
    "id": "fGiytF1ULgsp",
    "outputId": "bdd16fbc-8a24-4a80-a969-1c6b31dd6780"
   },
   "outputs": [
    {
     "name": "stdout",
     "output_type": "stream",
     "text": [
      "Epoch 1/20\n",
      "30/30 [==============================] - 4s 100ms/step - loss: 0.5544 - accuracy: 0.7607 - val_loss: 0.4264 - val_accuracy: 0.8632\n",
      "Epoch 2/20\n",
      "30/30 [==============================] - 1s 28ms/step - loss: 0.3509 - accuracy: 0.8905 - val_loss: 0.3294 - val_accuracy: 0.8820\n",
      "Epoch 3/20\n",
      "30/30 [==============================] - 1s 27ms/step - loss: 0.2638 - accuracy: 0.9131 - val_loss: 0.2977 - val_accuracy: 0.8826\n",
      "Epoch 4/20\n",
      "30/30 [==============================] - 1s 26ms/step - loss: 0.2120 - accuracy: 0.9315 - val_loss: 0.2819 - val_accuracy: 0.8877\n",
      "Epoch 5/20\n",
      "30/30 [==============================] - 1s 24ms/step - loss: 0.1759 - accuracy: 0.9427 - val_loss: 0.2754 - val_accuracy: 0.8866\n",
      "Epoch 6/20\n",
      "30/30 [==============================] - 1s 24ms/step - loss: 0.1481 - accuracy: 0.9530 - val_loss: 0.2781 - val_accuracy: 0.8882\n",
      "Epoch 7/20\n",
      "30/30 [==============================] - 1s 24ms/step - loss: 0.1280 - accuracy: 0.9591 - val_loss: 0.2906 - val_accuracy: 0.8820\n",
      "Epoch 8/20\n",
      "30/30 [==============================] - 1s 22ms/step - loss: 0.1109 - accuracy: 0.9681 - val_loss: 0.3235 - val_accuracy: 0.8808\n",
      "Epoch 9/20\n",
      "30/30 [==============================] - 2s 70ms/step - loss: 0.0949 - accuracy: 0.9723 - val_loss: 0.3141 - val_accuracy: 0.8788\n",
      "Epoch 10/20\n",
      "30/30 [==============================] - 1s 21ms/step - loss: 0.0804 - accuracy: 0.9785 - val_loss: 0.3492 - val_accuracy: 0.8786\n",
      "Epoch 11/20\n",
      "30/30 [==============================] - 1s 20ms/step - loss: 0.0705 - accuracy: 0.9816 - val_loss: 0.3440 - val_accuracy: 0.8813\n",
      "Epoch 12/20\n",
      "30/30 [==============================] - 1s 21ms/step - loss: 0.0584 - accuracy: 0.9863 - val_loss: 0.3615 - val_accuracy: 0.8783\n",
      "Epoch 13/20\n",
      "30/30 [==============================] - 1s 21ms/step - loss: 0.0492 - accuracy: 0.9899 - val_loss: 0.4267 - val_accuracy: 0.8642\n",
      "Epoch 14/20\n",
      "30/30 [==============================] - 1s 20ms/step - loss: 0.0432 - accuracy: 0.9918 - val_loss: 0.4020 - val_accuracy: 0.8773\n",
      "Epoch 15/20\n",
      "30/30 [==============================] - 1s 19ms/step - loss: 0.0347 - accuracy: 0.9944 - val_loss: 0.4213 - val_accuracy: 0.8721\n",
      "Epoch 16/20\n",
      "30/30 [==============================] - 1s 20ms/step - loss: 0.0291 - accuracy: 0.9958 - val_loss: 0.4804 - val_accuracy: 0.8645\n",
      "Epoch 17/20\n",
      "30/30 [==============================] - 1s 20ms/step - loss: 0.0253 - accuracy: 0.9964 - val_loss: 0.4745 - val_accuracy: 0.8716\n",
      "Epoch 18/20\n",
      "30/30 [==============================] - 1s 20ms/step - loss: 0.0212 - accuracy: 0.9978 - val_loss: 0.4910 - val_accuracy: 0.8698\n",
      "Epoch 19/20\n",
      "30/30 [==============================] - 1s 19ms/step - loss: 0.0169 - accuracy: 0.9981 - val_loss: 0.5078 - val_accuracy: 0.8698\n",
      "Epoch 20/20\n",
      "30/30 [==============================] - 1s 19ms/step - loss: 0.0155 - accuracy: 0.9981 - val_loss: 0.5249 - val_accuracy: 0.8705\n"
     ]
    }
   ],
   "source": [
    "#fit the model\n",
    "history=model.fit(partial_x_train,partial_y_train,epochs=20, batch_size=512, validation_data=(x_val,y_val))"
   ]
  },
  {
   "cell_type": "code",
   "execution_count": 19,
   "metadata": {
    "id": "opFsRjGnMHSj"
   },
   "outputs": [],
   "source": [
    "history_dict = history.history"
   ]
  },
  {
   "cell_type": "code",
   "execution_count": 20,
   "metadata": {
    "colab": {
     "base_uri": "https://localhost:8080/"
    },
    "executionInfo": {
     "elapsed": 5,
     "status": "ok",
     "timestamp": 1684944468345,
     "user": {
      "displayName": "TE_B_52_Siddesh Patankar",
      "userId": "08734077620444832225"
     },
     "user_tz": -330
    },
    "id": "M2S1B7zZMh2r",
    "outputId": "b4834ca3-05b0-417c-9c1d-39d9fdb4c68d"
   },
   "outputs": [
    {
     "data": {
      "text/plain": [
       "dict_keys(['loss', 'accuracy', 'val_loss', 'val_accuracy'])"
      ]
     },
     "execution_count": 20,
     "metadata": {},
     "output_type": "execute_result"
    }
   ],
   "source": [
    "history_dict.keys()"
   ]
  },
  {
   "cell_type": "code",
   "execution_count": 21,
   "metadata": {
    "id": "jxiEsbXLMOxV"
   },
   "outputs": [],
   "source": [
    "acc = history_dict['accuracy']\n",
    "val_loss = history_dict['val_loss']\n",
    "val_acc = history_dict['val_accuracy']\n",
    "loss = history_dict['loss']"
   ]
  },
  {
   "cell_type": "code",
   "execution_count": 22,
   "metadata": {
    "colab": {
     "base_uri": "https://localhost:8080/",
     "height": 472
    },
    "executionInfo": {
     "elapsed": 10,
     "status": "ok",
     "timestamp": 1684944475458,
     "user": {
      "displayName": "TE_B_52_Siddesh Patankar",
      "userId": "08734077620444832225"
     },
     "user_tz": -330
    },
    "id": "uL2lsvJgL4e7",
    "outputId": "f9a0c7fb-b0ae-42d4-d18d-1ff8dccb0245"
   },
   "outputs": [
    {
     "data": {
      "image/png": "[encoded data removed]",
      "text/plain": [
       "<Figure size 640x480 with 1 Axes>"
      ]
     },
     "metadata": {},
     "output_type": "display_data"
    }
   ],
   "source": [
    "#plotting training and validation loss\n",
    "import matplotlib.pyplot as plt\n",
    "epochs = range(1, len(acc)+1)\n",
    "plt.plot(epochs, loss, 'bo', label = 'training loss')\n",
    "plt.plot(epochs, val_loss,'b', label = 'validation loss')\n",
    "plt.title('Training and validation loss')\n",
    "plt.xlabel('Epochs')\n",
    "plt.ylabel('Loss')\n",
    "plt.legend()\n",
    "plt.show()"
   ]
  },
  {
   "cell_type": "code",
   "execution_count": 23,
   "metadata": {
    "colab": {
     "base_uri": "https://localhost:8080/",
     "height": 490
    },
    "executionInfo": {
     "elapsed": 11,
     "status": "ok",
     "timestamp": 1684944480433,
     "user": {
      "displayName": "TE_B_52_Siddesh Patankar",
      "userId": "08734077620444832225"
     },
     "user_tz": -330
    },
    "id": "WQ3PNwidO9ue",
    "outputId": "b6d6adbe-b454-4476-dd27-27396d373308"
   },
   "outputs": [
    {
     "data": {
      "text/plain": [
       "<matplotlib.legend.Legend at 0x210381c8130>"
      ]
     },
     "execution_count": 23,
     "metadata": {},
     "output_type": "execute_result"
    },
    {
     "data": {
      "image/png": "[encoded data removed]",
      "text/plain": [
       "<Figure size 640x480 with 1 Axes>"
      ]
     },
     "metadata": {},
     "output_type": "display_data"
    }
   ],
   "source": [
    "plt.clf()\n",
    "plt.plot(epochs, acc, 'bo',label='Training acc')\n",
    "plt.plot(epochs, val_acc, 'b', label='Validation acc')\n",
    "plt.title('Training and Validation accuracy')\n",
    "plt.xlabel('Epochs')\n",
    "plt.ylabel('Accuracy')\n",
    "plt.legend()"
   ]
  },
  {
   "cell_type": "code",
   "execution_count": 24,
   "metadata": {
    "colab": {
     "base_uri": "https://localhost:8080/"
    },
    "executionInfo": {
     "elapsed": 982,
     "status": "ok",
     "timestamp": 1684944485618,
     "user": {
      "displayName": "TE_B_52_Siddesh Patankar",
      "userId": "08734077620444832225"
     },
     "user_tz": -330
    },
    "id": "RXP9smITQEtC",
    "outputId": "35d93cb0-4bb0-4257-dab4-ad9f194bd6a9"
   },
   "outputs": [
    {
     "name": "stdout",
     "output_type": "stream",
     "text": [
      "0.9599833369255066\n"
     ]
    }
   ],
   "source": [
    "import numpy as np\n",
    "#result = model.predict(test_data)\n",
    "print(np.mean(history_dict['accuracy']))\n",
    "#print(history_dict)"
   ]
  },
  {
   "cell_type": "code",
   "execution_count": 25,
   "metadata": {
    "id": "YC1JbQzb_WxR"
   },
   "outputs": [],
   "source": [
    "#Out put analysis,\n",
    "#[0.9865479] is a single prediction value for a particular input sample in the test data. \n",
    "#It is the predicted probability of the positive sentiment class (class 1) for that input.\n",
    "#Since the output activation function of the last layer of the model is sigmoid, which maps the predicted values to a range of [0,1]\n",
    "#,the output values represent the probabilities of the positive class. \n",
    "#In this case, the probability of the positive class for the given input sample is 0.9865479, which is very close to 1, indicating that the model is highly confident in predicting the positive class for that input."
   ]
  }
 ],
 "metadata": {
  "colab": {
   "provenance": []
  },
  "kernelspec": {
   "display_name": "Python 3 (ipykernel)",
   "language": "python",
   "name": "python3"
  },
  "language_info": {
   "codemirror_mode": {
    "name": "ipython",
    "version": 3
   },
   "file_extension": ".py",
   "mimetype": "text/x-python",
   "name": "python",
   "nbconvert_exporter": "python",
   "pygments_lexer": "ipython3",
   "version": "3.10.11"
  }
 },
 "nbformat": 4,
 "nbformat_minor": 1
}
